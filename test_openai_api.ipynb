{
 "cells": [
  {
   "cell_type": "code",
   "execution_count": 1,
   "metadata": {},
   "outputs": [],
   "source": [
    "from APIs.Openai.sync_api import *"
   ]
  },
  {
   "cell_type": "code",
   "execution_count": 6,
   "metadata": {},
   "outputs": [
    {
     "name": "stdout",
     "output_type": "stream",
     "text": [
      "API_KEY: sk-pr...icT4A\n",
      "[{'role': 'system', 'content': ''}, {'role': 'user', 'content': [{'type': 'text', 'text': '早安'}]}, {'role': 'assistant', 'content': [{'type': 'text', 'text': '早安！今天过得怎么样？有什么我可以帮助你的吗？'}]}]\n",
      "[{'role': 'system', 'content': ''}, {'role': 'user', 'content': [{'type': 'text', 'text': '早安'}]}, {'role': 'assistant', 'content': [{'type': 'text', 'text': '早安！今天过得怎么样？有什么我可以帮助你的吗？'}]}, {'role': 'user', 'content': [{'type': 'text', 'text': '早安'}]}, {'role': 'assistant', 'content': [{'type': 'text', 'text': '早安！希望你有个美好的一天。有任何问题或者需要帮助的地方，随时告诉我哦！'}]}]\n",
      "早安！希望你有个美好的一天。有任何问题或者需要帮助的地方，随时告诉我哦！\n",
      "[{'role': 'system', 'content': ''}, {'role': 'user', 'content': [{'type': 'text', 'text': '早安'}]}, {'role': 'assistant', 'content': [{'type': 'text', 'text': '早安！今天过得怎么样？有什么我可以帮助你的吗？'}]}, {'role': 'user', 'content': [{'type': 'text', 'text': '早安'}]}, {'role': 'assistant', 'content': [{'type': 'text', 'text': '早安！希望你有个美好的一天。有任何问题或者需要帮助的地方，随时告诉我哦！'}]}, {'role': 'user', 'content': [{'type': 'text', 'text': '早安'}]}, {'role': 'assistant', 'content': [{'type': 'text', 'text': '早安！很高兴再次见到你。今天有什么计划或者需要帮助的事情吗？'}]}]\n",
      "早安！很高兴再次见到你。今天有什么计划或者需要帮助的事情吗？\n"
     ]
    }
   ],
   "source": [
    "openai_agent_4o = OpenAI_agent(\n",
    "    model_name=\"gpt-4o\",\n",
    "    temperature=0.5,\n",
    ")\n",
    "messages, response = openai_agent_4o.update_messages('早安')\n",
    "print(messages)\n",
    "messages, response = openai_agent_4o.update_messages('早安', messages=messages)\n",
    "print(messages)\n",
    "print(response)\n",
    "messages, response = openai_agent_4o.update_messages('早安', messages=messages)\n",
    "print(messages)\n",
    "print(response)"
   ]
  },
  {
   "cell_type": "code",
   "execution_count": 4,
   "metadata": {},
   "outputs": [
    {
     "data": {
      "text/plain": [
       "([{'role': 'system', 'content': ''},\n",
       "  {'role': 'user', 'content': [{'type': 'text', 'text': '早安'}]},\n",
       "  {'role': 'assistant',\n",
       "   'content': [{'type': 'text', 'text': '早安！今天过得怎么样？有什么我可以帮忙的吗？'}]}],\n",
       " '早安！今天过得怎么样？有什么我可以帮忙的吗？')"
      ]
     },
     "execution_count": 4,
     "metadata": {},
     "output_type": "execute_result"
    }
   ],
   "source": [
    "update_messages"
   ]
  },
  {
   "cell_type": "code",
   "execution_count": null,
   "metadata": {},
   "outputs": [],
   "source": []
  }
 ],
 "metadata": {
  "kernelspec": {
   "display_name": "Python 3",
   "language": "python",
   "name": "python3"
  },
  "language_info": {
   "codemirror_mode": {
    "name": "ipython",
    "version": 3
   },
   "file_extension": ".py",
   "mimetype": "text/x-python",
   "name": "python",
   "nbconvert_exporter": "python",
   "pygments_lexer": "ipython3",
   "version": "3.8.10"
  }
 },
 "nbformat": 4,
 "nbformat_minor": 2
}
